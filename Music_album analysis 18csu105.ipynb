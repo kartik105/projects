{
 "cells": [
  {
   "cell_type": "code",
   "execution_count": 2,
   "metadata": {},
   "outputs": [],
   "source": [
    "import pandas as pd\n",
    "import numpy as np\n",
    "import matplotlib.pyplot as plt\n",
    "import seaborn as sns"
   ]
  },
  {
   "cell_type": "code",
   "execution_count": 3,
   "metadata": {},
   "outputs": [],
   "source": [
    "dt = pd.read_csv('raw_albums.csv')\n",
    "dt['release_year'] = pd.DatetimeIndex(dt['album_date_released']).year"
   ]
  },
  {
   "cell_type": "code",
   "execution_count": 4,
   "metadata": {},
   "outputs": [
    {
     "data": {
      "text/html": [
       "<div>\n",
       "<style scoped>\n",
       "    .dataframe tbody tr th:only-of-type {\n",
       "        vertical-align: middle;\n",
       "    }\n",
       "\n",
       "    .dataframe tbody tr th {\n",
       "        vertical-align: top;\n",
       "    }\n",
       "\n",
       "    .dataframe thead th {\n",
       "        text-align: right;\n",
       "    }\n",
       "</style>\n",
       "<table border=\"1\" class=\"dataframe\">\n",
       "  <thead>\n",
       "    <tr style=\"text-align: right;\">\n",
       "      <th></th>\n",
       "      <th>album_id</th>\n",
       "      <th>album_comments</th>\n",
       "      <th>album_date_created</th>\n",
       "      <th>album_date_released</th>\n",
       "      <th>album_engineer</th>\n",
       "      <th>album_favorites</th>\n",
       "      <th>album_handle</th>\n",
       "      <th>album_image_file</th>\n",
       "      <th>album_images</th>\n",
       "      <th>album_information</th>\n",
       "      <th>album_listens</th>\n",
       "      <th>album_producer</th>\n",
       "      <th>album_title</th>\n",
       "      <th>album_tracks</th>\n",
       "      <th>album_type</th>\n",
       "      <th>album_url</th>\n",
       "      <th>artist_name</th>\n",
       "      <th>artist_url</th>\n",
       "      <th>tags</th>\n",
       "      <th>release_year</th>\n",
       "    </tr>\n",
       "  </thead>\n",
       "  <tbody>\n",
       "    <tr>\n",
       "      <th>0</th>\n",
       "      <td>1</td>\n",
       "      <td>0</td>\n",
       "      <td>11/26/2008 01:44:45 AM</td>\n",
       "      <td>1/05/2009</td>\n",
       "      <td>NaN</td>\n",
       "      <td>4</td>\n",
       "      <td>AWOL_-_A_Way_Of_Life</td>\n",
       "      <td>https://freemusicarchive.org/file/images/album...</td>\n",
       "      <td>[{'image_id': '1955', 'image_file': 'https://f...</td>\n",
       "      <td>&lt;p&gt;&lt;/p&gt;</td>\n",
       "      <td>6073</td>\n",
       "      <td>NaN</td>\n",
       "      <td>AWOL - A Way Of Life</td>\n",
       "      <td>7</td>\n",
       "      <td>Album</td>\n",
       "      <td>http://freemusicarchive.org/music/AWOL/AWOL_-_...</td>\n",
       "      <td>AWOL</td>\n",
       "      <td>http://freemusicarchive.org/music/AWOL/</td>\n",
       "      <td>[]</td>\n",
       "      <td>2009.0</td>\n",
       "    </tr>\n",
       "    <tr>\n",
       "      <th>1</th>\n",
       "      <td>100</td>\n",
       "      <td>0</td>\n",
       "      <td>11/26/2008 01:55:44 AM</td>\n",
       "      <td>1/09/2009</td>\n",
       "      <td>NaN</td>\n",
       "      <td>0</td>\n",
       "      <td>On_Opaque_Things</td>\n",
       "      <td>https://freemusicarchive.org/file/images/album...</td>\n",
       "      <td>[{'image_id': '4403', 'image_file': 'https://f...</td>\n",
       "      <td>NaN</td>\n",
       "      <td>5613</td>\n",
       "      <td>NaN</td>\n",
       "      <td>On Opaque Things</td>\n",
       "      <td>4</td>\n",
       "      <td>Album</td>\n",
       "      <td>http://freemusicarchive.org/music/Bird_Names/O...</td>\n",
       "      <td>Bird Names</td>\n",
       "      <td>http://freemusicarchive.org/music/Bird_Names/</td>\n",
       "      <td>[]</td>\n",
       "      <td>2009.0</td>\n",
       "    </tr>\n",
       "    <tr>\n",
       "      <th>2</th>\n",
       "      <td>1000</td>\n",
       "      <td>0</td>\n",
       "      <td>12/04/2008 09:28:49 AM</td>\n",
       "      <td>10/26/2008</td>\n",
       "      <td>NaN</td>\n",
       "      <td>0</td>\n",
       "      <td>DMBQ_Live_at_2008_Record_Fair_on_WFMU_Record_F...</td>\n",
       "      <td>https://freemusicarchive.org/file/images/album...</td>\n",
       "      <td>[{'image_id': '31997', 'image_file': 'https://...</td>\n",
       "      <td>&lt;p&gt;http://blog.wfmu.org/freeform/2008/10/what-...</td>\n",
       "      <td>1092</td>\n",
       "      <td>NaN</td>\n",
       "      <td>DMBQ Live at 2008 Record Fair on WFMU Record F...</td>\n",
       "      <td>4</td>\n",
       "      <td>Live Performance</td>\n",
       "      <td>http://freemusicarchive.org/music/DMBQ/DMBQ_Li...</td>\n",
       "      <td>DMBQ</td>\n",
       "      <td>http://freemusicarchive.org/music/DMBQ/</td>\n",
       "      <td>[]</td>\n",
       "      <td>2008.0</td>\n",
       "    </tr>\n",
       "    <tr>\n",
       "      <th>3</th>\n",
       "      <td>10000</td>\n",
       "      <td>0</td>\n",
       "      <td>9/05/2011 04:42:57 PM</td>\n",
       "      <td>NaN</td>\n",
       "      <td>NaN</td>\n",
       "      <td>0</td>\n",
       "      <td>Live_at_CKUT_on_Montreal_Sessions_1434</td>\n",
       "      <td>https://freemusicarchive.org/file/images/album...</td>\n",
       "      <td>[{'image_id': '12266', 'image_file': 'https://...</td>\n",
       "      <td>&lt;p&gt;Live Set on the Montreal Session February 2...</td>\n",
       "      <td>1001</td>\n",
       "      <td>NaN</td>\n",
       "      <td>Live at CKUT on Montreal Sessions</td>\n",
       "      <td>1</td>\n",
       "      <td>Radio Program</td>\n",
       "      <td>http://freemusicarchive.org/music/Sundrips/Liv...</td>\n",
       "      <td>Sundrips</td>\n",
       "      <td>http://freemusicarchive.org/music/Sundrips/</td>\n",
       "      <td>[]</td>\n",
       "      <td>NaN</td>\n",
       "    </tr>\n",
       "    <tr>\n",
       "      <th>4</th>\n",
       "      <td>10001</td>\n",
       "      <td>0</td>\n",
       "      <td>9/06/2011 12:02:58 AM</td>\n",
       "      <td>1/01/2006</td>\n",
       "      <td>NaN</td>\n",
       "      <td>0</td>\n",
       "      <td>Grounds_Dream_Cosmic_Love</td>\n",
       "      <td>https://freemusicarchive.org/file/images/album...</td>\n",
       "      <td>[{'image_id': '24091', 'image_file': 'https://...</td>\n",
       "      <td>&lt;p&gt;Recorded in Linnavuori, Finland, 2005 (with...</td>\n",
       "      <td>504</td>\n",
       "      <td>NaN</td>\n",
       "      <td>Ground's Dream Cosmic Love</td>\n",
       "      <td>1</td>\n",
       "      <td>Album</td>\n",
       "      <td>http://freemusicarchive.org/music/Uton/Grounds...</td>\n",
       "      <td>Uton</td>\n",
       "      <td>http://freemusicarchive.org/music/Uton/</td>\n",
       "      <td>[]</td>\n",
       "      <td>2006.0</td>\n",
       "    </tr>\n",
       "  </tbody>\n",
       "</table>\n",
       "</div>"
      ],
      "text/plain": [
       "   album_id  album_comments      album_date_created album_date_released  \\\n",
       "0         1               0  11/26/2008 01:44:45 AM           1/05/2009   \n",
       "1       100               0  11/26/2008 01:55:44 AM           1/09/2009   \n",
       "2      1000               0  12/04/2008 09:28:49 AM          10/26/2008   \n",
       "3     10000               0   9/05/2011 04:42:57 PM                 NaN   \n",
       "4     10001               0   9/06/2011 12:02:58 AM           1/01/2006   \n",
       "\n",
       "  album_engineer  album_favorites  \\\n",
       "0            NaN                4   \n",
       "1            NaN                0   \n",
       "2            NaN                0   \n",
       "3            NaN                0   \n",
       "4            NaN                0   \n",
       "\n",
       "                                        album_handle  \\\n",
       "0                               AWOL_-_A_Way_Of_Life   \n",
       "1                                   On_Opaque_Things   \n",
       "2  DMBQ_Live_at_2008_Record_Fair_on_WFMU_Record_F...   \n",
       "3             Live_at_CKUT_on_Montreal_Sessions_1434   \n",
       "4                          Grounds_Dream_Cosmic_Love   \n",
       "\n",
       "                                    album_image_file  \\\n",
       "0  https://freemusicarchive.org/file/images/album...   \n",
       "1  https://freemusicarchive.org/file/images/album...   \n",
       "2  https://freemusicarchive.org/file/images/album...   \n",
       "3  https://freemusicarchive.org/file/images/album...   \n",
       "4  https://freemusicarchive.org/file/images/album...   \n",
       "\n",
       "                                        album_images  \\\n",
       "0  [{'image_id': '1955', 'image_file': 'https://f...   \n",
       "1  [{'image_id': '4403', 'image_file': 'https://f...   \n",
       "2  [{'image_id': '31997', 'image_file': 'https://...   \n",
       "3  [{'image_id': '12266', 'image_file': 'https://...   \n",
       "4  [{'image_id': '24091', 'image_file': 'https://...   \n",
       "\n",
       "                                   album_information  album_listens  \\\n",
       "0                                            <p></p>           6073   \n",
       "1                                                NaN           5613   \n",
       "2  <p>http://blog.wfmu.org/freeform/2008/10/what-...           1092   \n",
       "3  <p>Live Set on the Montreal Session February 2...           1001   \n",
       "4  <p>Recorded in Linnavuori, Finland, 2005 (with...            504   \n",
       "\n",
       "  album_producer                                        album_title  \\\n",
       "0            NaN                               AWOL - A Way Of Life   \n",
       "1            NaN                                   On Opaque Things   \n",
       "2            NaN  DMBQ Live at 2008 Record Fair on WFMU Record F...   \n",
       "3            NaN                  Live at CKUT on Montreal Sessions   \n",
       "4            NaN                         Ground's Dream Cosmic Love   \n",
       "\n",
       "   album_tracks        album_type  \\\n",
       "0             7             Album   \n",
       "1             4             Album   \n",
       "2             4  Live Performance   \n",
       "3             1     Radio Program   \n",
       "4             1             Album   \n",
       "\n",
       "                                           album_url artist_name  \\\n",
       "0  http://freemusicarchive.org/music/AWOL/AWOL_-_...        AWOL   \n",
       "1  http://freemusicarchive.org/music/Bird_Names/O...  Bird Names   \n",
       "2  http://freemusicarchive.org/music/DMBQ/DMBQ_Li...        DMBQ   \n",
       "3  http://freemusicarchive.org/music/Sundrips/Liv...    Sundrips   \n",
       "4  http://freemusicarchive.org/music/Uton/Grounds...        Uton   \n",
       "\n",
       "                                      artist_url tags  release_year  \n",
       "0        http://freemusicarchive.org/music/AWOL/   []        2009.0  \n",
       "1  http://freemusicarchive.org/music/Bird_Names/   []        2009.0  \n",
       "2        http://freemusicarchive.org/music/DMBQ/   []        2008.0  \n",
       "3    http://freemusicarchive.org/music/Sundrips/   []           NaN  \n",
       "4        http://freemusicarchive.org/music/Uton/   []        2006.0  "
      ]
     },
     "execution_count": 4,
     "metadata": {},
     "output_type": "execute_result"
    }
   ],
   "source": [
    "dt.head()"
   ]
  },
  {
   "cell_type": "code",
   "execution_count": 5,
   "metadata": {},
   "outputs": [
    {
     "data": {
      "text/plain": [
       "Index(['album_id', 'album_comments', 'album_date_created',\n",
       "       'album_date_released', 'album_engineer', 'album_favorites',\n",
       "       'album_handle', 'album_image_file', 'album_images', 'album_information',\n",
       "       'album_listens', 'album_producer', 'album_title', 'album_tracks',\n",
       "       'album_type', 'album_url', 'artist_name', 'artist_url', 'tags',\n",
       "       'release_year'],\n",
       "      dtype='object')"
      ]
     },
     "execution_count": 5,
     "metadata": {},
     "output_type": "execute_result"
    }
   ],
   "source": [
    "dt.columns"
   ]
  },
  {
   "cell_type": "code",
   "execution_count": 6,
   "metadata": {},
   "outputs": [
    {
     "name": "stdout",
     "output_type": "stream",
     "text": [
      "<class 'pandas.core.frame.DataFrame'>\n",
      "RangeIndex: 15234 entries, 0 to 15233\n",
      "Data columns (total 20 columns):\n",
      "album_id               15234 non-null int64\n",
      "album_comments         15234 non-null int64\n",
      "album_date_created     15234 non-null object\n",
      "album_date_released    9743 non-null object\n",
      "album_engineer         2393 non-null object\n",
      "album_favorites        15234 non-null int64\n",
      "album_handle           15234 non-null object\n",
      "album_image_file       15234 non-null object\n",
      "album_images           15234 non-null object\n",
      "album_information      12036 non-null object\n",
      "album_listens          15234 non-null int64\n",
      "album_producer         2662 non-null object\n",
      "album_title            15234 non-null object\n",
      "album_tracks           15234 non-null int64\n",
      "album_type             14770 non-null object\n",
      "album_url              15233 non-null object\n",
      "artist_name            15233 non-null object\n",
      "artist_url             15233 non-null object\n",
      "tags                   15234 non-null object\n",
      "release_year           9743 non-null float64\n",
      "dtypes: float64(1), int64(5), object(14)\n",
      "memory usage: 2.3+ MB\n"
     ]
    }
   ],
   "source": [
    "dt.info()"
   ]
  },
  {
   "cell_type": "code",
   "execution_count": 7,
   "metadata": {},
   "outputs": [
    {
     "data": {
      "text/html": [
       "<div>\n",
       "<style scoped>\n",
       "    .dataframe tbody tr th:only-of-type {\n",
       "        vertical-align: middle;\n",
       "    }\n",
       "\n",
       "    .dataframe tbody tr th {\n",
       "        vertical-align: top;\n",
       "    }\n",
       "\n",
       "    .dataframe thead th {\n",
       "        text-align: right;\n",
       "    }\n",
       "</style>\n",
       "<table border=\"1\" class=\"dataframe\">\n",
       "  <thead>\n",
       "    <tr style=\"text-align: right;\">\n",
       "      <th></th>\n",
       "      <th>album_id</th>\n",
       "      <th>album_comments</th>\n",
       "      <th>album_favorites</th>\n",
       "      <th>album_listens</th>\n",
       "      <th>album_tracks</th>\n",
       "      <th>release_year</th>\n",
       "    </tr>\n",
       "  </thead>\n",
       "  <tbody>\n",
       "    <tr>\n",
       "      <th>count</th>\n",
       "      <td>15234.000000</td>\n",
       "      <td>15234.000000</td>\n",
       "      <td>15234.000000</td>\n",
       "      <td>1.523400e+04</td>\n",
       "      <td>15234.000000</td>\n",
       "      <td>9743.000000</td>\n",
       "    </tr>\n",
       "    <tr>\n",
       "      <th>mean</th>\n",
       "      <td>11980.004923</td>\n",
       "      <td>0.222135</td>\n",
       "      <td>0.938362</td>\n",
       "      <td>1.567193e+04</td>\n",
       "      <td>8.228436</td>\n",
       "      <td>2010.526840</td>\n",
       "    </tr>\n",
       "    <tr>\n",
       "      <th>std</th>\n",
       "      <td>6328.503748</td>\n",
       "      <td>0.923528</td>\n",
       "      <td>2.510441</td>\n",
       "      <td>5.377029e+04</td>\n",
       "      <td>12.349484</td>\n",
       "      <td>5.587573</td>\n",
       "    </tr>\n",
       "    <tr>\n",
       "      <th>min</th>\n",
       "      <td>1.000000</td>\n",
       "      <td>0.000000</td>\n",
       "      <td>0.000000</td>\n",
       "      <td>1.700000e+01</td>\n",
       "      <td>0.000000</td>\n",
       "      <td>1902.000000</td>\n",
       "    </tr>\n",
       "    <tr>\n",
       "      <th>25%</th>\n",
       "      <td>6662.250000</td>\n",
       "      <td>0.000000</td>\n",
       "      <td>0.000000</td>\n",
       "      <td>1.772000e+03</td>\n",
       "      <td>2.000000</td>\n",
       "      <td>2009.000000</td>\n",
       "    </tr>\n",
       "    <tr>\n",
       "      <th>50%</th>\n",
       "      <td>11925.500000</td>\n",
       "      <td>0.000000</td>\n",
       "      <td>0.000000</td>\n",
       "      <td>4.850000e+03</td>\n",
       "      <td>6.000000</td>\n",
       "      <td>2011.000000</td>\n",
       "    </tr>\n",
       "    <tr>\n",
       "      <th>75%</th>\n",
       "      <td>17462.750000</td>\n",
       "      <td>0.000000</td>\n",
       "      <td>1.000000</td>\n",
       "      <td>1.314550e+04</td>\n",
       "      <td>10.000000</td>\n",
       "      <td>2014.000000</td>\n",
       "    </tr>\n",
       "    <tr>\n",
       "      <th>max</th>\n",
       "      <td>22940.000000</td>\n",
       "      <td>53.000000</td>\n",
       "      <td>61.000000</td>\n",
       "      <td>3.564243e+06</td>\n",
       "      <td>652.000000</td>\n",
       "      <td>2021.000000</td>\n",
       "    </tr>\n",
       "  </tbody>\n",
       "</table>\n",
       "</div>"
      ],
      "text/plain": [
       "           album_id  album_comments  album_favorites  album_listens  \\\n",
       "count  15234.000000    15234.000000     15234.000000   1.523400e+04   \n",
       "mean   11980.004923        0.222135         0.938362   1.567193e+04   \n",
       "std     6328.503748        0.923528         2.510441   5.377029e+04   \n",
       "min        1.000000        0.000000         0.000000   1.700000e+01   \n",
       "25%     6662.250000        0.000000         0.000000   1.772000e+03   \n",
       "50%    11925.500000        0.000000         0.000000   4.850000e+03   \n",
       "75%    17462.750000        0.000000         1.000000   1.314550e+04   \n",
       "max    22940.000000       53.000000        61.000000   3.564243e+06   \n",
       "\n",
       "       album_tracks  release_year  \n",
       "count  15234.000000   9743.000000  \n",
       "mean       8.228436   2010.526840  \n",
       "std       12.349484      5.587573  \n",
       "min        0.000000   1902.000000  \n",
       "25%        2.000000   2009.000000  \n",
       "50%        6.000000   2011.000000  \n",
       "75%       10.000000   2014.000000  \n",
       "max      652.000000   2021.000000  "
      ]
     },
     "execution_count": 7,
     "metadata": {},
     "output_type": "execute_result"
    }
   ],
   "source": [
    "dt.describe()"
   ]
  },
  {
   "cell_type": "code",
   "execution_count": 12,
   "metadata": {},
   "outputs": [],
   "source": [
    "df = dt[['album_listens', 'release_year','album_favorites']].dropna()"
   ]
  },
  {
   "cell_type": "markdown",
   "metadata": {},
   "source": [
    "## EDA"
   ]
  },
  {
   "cell_type": "code",
   "execution_count": 13,
   "metadata": {},
   "outputs": [],
   "source": [
    "sns.set_style('whitegrid')"
   ]
  },
  {
   "cell_type": "code",
   "execution_count": 14,
   "metadata": {},
   "outputs": [
    {
     "data": {
      "text/plain": [
       "<seaborn.axisgrid.FacetGrid at 0x12180a5e128>"
      ]
     },
     "execution_count": 14,
     "metadata": {},
     "output_type": "execute_result"
    },
    {
     "data": {
      "image/png": "[encoded data removed]",
      "text/plain": [
       "<Figure size 799.25x720 with 1 Axes>"
      ]
     },
     "metadata": {},
     "output_type": "display_data"
    }
   ],
   "source": [
    "sns.lmplot('release_year', 'album_listens', data = df, palette = 'pastel',hue='album_favorites',  height = 10, aspect = 1, fit_reg = False)"
   ]
  },
  {
   "cell_type": "code",
   "execution_count": 15,
   "metadata": {},
   "outputs": [],
   "source": [
    "## K means cluster creation"
   ]
  },
  {
   "cell_type": "code",
   "execution_count": 16,
   "metadata": {},
   "outputs": [],
   "source": [
    "from sklearn.cluster import KMeans"
   ]
  },
  {
   "cell_type": "code",
   "execution_count": 17,
   "metadata": {},
   "outputs": [
    {
     "name": "stderr",
     "output_type": "stream",
     "text": [
      "D:\\Python\\lib\\site-packages\\sklearn\\preprocessing\\data.py:645: DataConversionWarning: Data with input dtype int64, float64 were all converted to float64 by StandardScaler.\n",
      "  return self.partial_fit(X, y)\n",
      "D:\\Python\\lib\\site-packages\\sklearn\\base.py:464: DataConversionWarning: Data with input dtype int64, float64 were all converted to float64 by StandardScaler.\n",
      "  return self.fit(X, **fit_params).transform(X)\n"
     ]
    }
   ],
   "source": [
    "from sklearn.preprocessing import StandardScaler\n",
    "scaler = StandardScaler()\n",
    "X = scaler.fit_transform(df)"
   ]
  },
  {
   "cell_type": "code",
   "execution_count": 18,
   "metadata": {},
   "outputs": [
    {
     "data": {
      "text/plain": [
       "array([[-0.15151669, -0.27327036,  1.19052867],\n",
       "       [-0.15993335, -0.27327036, -0.36736816],\n",
       "       [-0.24265454, -0.45224812, -0.36736816],\n",
       "       [-0.25341323, -0.81020363, -0.36736816],\n",
       "       [ 0.19012674,  0.08468515,  0.02210605]])"
      ]
     },
     "execution_count": 18,
     "metadata": {},
     "output_type": "execute_result"
    }
   ],
   "source": [
    "X[:5]"
   ]
  },
  {
   "cell_type": "code",
   "execution_count": 19,
   "metadata": {},
   "outputs": [
    {
     "data": {
      "image/png": "[encoded data removed]",
      "text/plain": [
       "<Figure size 432x288 with 1 Axes>"
      ]
     },
     "metadata": {},
     "output_type": "display_data"
    }
   ],
   "source": [
    "from sklearn.cluster import KMeans\n",
    "wcss = []\n",
    "for i in range(1, 11):\n",
    "    kmeans = KMeans(n_clusters = i, init = 'k-means++', max_iter=300, n_init=10)\n",
    "    kmeans.fit(X)\n",
    "    wcss.append(kmeans.inertia_)\n",
    "plt.plot(range(1, 11), wcss)\n",
    "plt.title('The Elbow Method')\n",
    "plt.xlabel('Number of clusters')\n",
    "plt.ylabel('WCSS')\n",
    "plt.show()"
   ]
  },
  {
   "cell_type": "code",
   "execution_count": 20,
   "metadata": {},
   "outputs": [],
   "source": [
    "kmeans = KMeans(n_clusters = 4, init = 'k-means++', max_iter=300, n_init=10)\n",
    "y_kmeans = kmeans.fit_predict(X)"
   ]
  },
  {
   "cell_type": "code",
   "execution_count": 21,
   "metadata": {},
   "outputs": [
    {
     "data": {
      "text/plain": [
       "13964.341973416507"
      ]
     },
     "execution_count": 21,
     "metadata": {},
     "output_type": "execute_result"
    }
   ],
   "source": [
    "kmeans.inertia_"
   ]
  },
  {
   "cell_type": "code",
   "execution_count": 22,
   "metadata": {},
   "outputs": [],
   "source": [
    "kmeans1 = KMeans(n_clusters = 5, init = 'k-means++', max_iter=300, n_init=10)\n",
    "y_kmeans = kmeans1.fit_predict(X)"
   ]
  },
  {
   "cell_type": "code",
   "execution_count": 23,
   "metadata": {},
   "outputs": [
    {
     "data": {
      "text/plain": [
       "11026.383828070835"
      ]
     },
     "execution_count": 23,
     "metadata": {},
     "output_type": "execute_result"
    }
   ],
   "source": [
    "kmeans1.inertia_"
   ]
  },
  {
   "cell_type": "code",
   "execution_count": 24,
   "metadata": {},
   "outputs": [],
   "source": [
    "kmeans2 = KMeans(n_clusters = 3, init = 'k-means++', max_iter=300, n_init=10)\n",
    "y_kmeans = kmeans2.fit_predict(X)"
   ]
  },
  {
   "cell_type": "code",
   "execution_count": 25,
   "metadata": {},
   "outputs": [
    {
     "data": {
      "text/plain": [
       "17335.42796509391"
      ]
     },
     "execution_count": 25,
     "metadata": {},
     "output_type": "execute_result"
    }
   ],
   "source": [
    "kmeans2.inertia_"
   ]
  },
  {
   "cell_type": "raw",
   "metadata": {},
   "source": [
    "kmeans3 = KMeans(n_clusters = 2, init = 'k-means++', max_iter=300, n_init=10)\n",
    "y_kmeans = kmeans3.fit_predict(X)"
   ]
  },
  {
   "cell_type": "code",
   "execution_count": null,
   "metadata": {},
   "outputs": [],
   "source": []
  },
  {
   "cell_type": "code",
   "execution_count": 27,
   "metadata": {},
   "outputs": [],
   "source": [
    "kmeans = KMeans(n_clusters = 6, init = 'k-means++', max_iter=300, n_init=10)\n",
    "y_kmeans = kmeans.fit_predict(X)"
   ]
  },
  {
   "cell_type": "code",
   "execution_count": 28,
   "metadata": {},
   "outputs": [
    {
     "data": {
      "text/plain": [
       "8549.097053417147"
      ]
     },
     "execution_count": 28,
     "metadata": {},
     "output_type": "execute_result"
    }
   ],
   "source": [
    "kmeans.inertia_"
   ]
  },
  {
   "cell_type": "code",
   "execution_count": 29,
   "metadata": {},
   "outputs": [],
   "source": [
    "from sklearn.metrics import silhouette_score\n",
    "silhouette_coefficients = []\n",
    "# Notice you start at 2 clusters for silhouette coefficient\n",
    "for k in range(2, 11):\n",
    "    kmeans = KMeans(n_clusters = i, init = 'k-means++', max_iter=300, n_init=10)\n",
    "    kmeans.fit(X)\n",
    "    score = silhouette_score(X, kmeans.labels_)\n",
    "    silhouette_coefficients.append(score)"
   ]
  },
  {
   "cell_type": "code",
   "execution_count": 30,
   "metadata": {},
   "outputs": [
    {
     "data": {
      "image/png": "[encoded data removed]",
      "text/plain": [
       "<Figure size 432x288 with 1 Axes>"
      ]
     },
     "metadata": {},
     "output_type": "display_data"
    }
   ],
   "source": [
    "plt.plot(range(2, 11), silhouette_coefficients)\n",
    "plt.title('Silhouette Coefficients')\n",
    "plt.xlabel('Number of clusters')\n",
    "plt.ylabel('silhouette_coefficients')\n",
    "plt.show()"
   ]
  },
  {
   "cell_type": "code",
   "execution_count": 31,
   "metadata": {},
   "outputs": [],
   "source": [
    "kmeans = KMeans(n_clusters = 4, init = 'k-means++', max_iter=300, n_init=10)\n",
    "y_kmeans = kmeans.fit_predict(X)"
   ]
  },
  {
   "cell_type": "code",
   "execution_count": 32,
   "metadata": {},
   "outputs": [],
   "source": [
    "kmeans_silhouette = silhouette_score(X, kmeans.labels_)"
   ]
  },
  {
   "cell_type": "code",
   "execution_count": 33,
   "metadata": {},
   "outputs": [
    {
     "data": {
      "text/plain": [
       "0.5091461718324664"
      ]
     },
     "execution_count": 33,
     "metadata": {},
     "output_type": "execute_result"
    }
   ],
   "source": [
    "kmeans_silhouette"
   ]
  },
  {
   "cell_type": "code",
   "execution_count": 34,
   "metadata": {},
   "outputs": [],
   "source": [
    "kmeans = KMeans(n_clusters = 5, init = 'k-means++', max_iter=300, n_init=10)\n",
    "y_kmeans = kmeans.fit_predict(X)"
   ]
  },
  {
   "cell_type": "code",
   "execution_count": 35,
   "metadata": {},
   "outputs": [],
   "source": [
    "kmeans_silhouette = silhouette_score(X, kmeans.labels_)"
   ]
  },
  {
   "cell_type": "code",
   "execution_count": 36,
   "metadata": {},
   "outputs": [
    {
     "data": {
      "text/plain": [
       "0.4514652871387849"
      ]
     },
     "execution_count": 36,
     "metadata": {},
     "output_type": "execute_result"
    }
   ],
   "source": [
    "kmeans_silhouette"
   ]
  },
  {
   "cell_type": "code",
   "execution_count": 40,
   "metadata": {},
   "outputs": [],
   "source": [
    "kmeans = KMeans(n_clusters = 3, init = 'k-means++', max_iter=300, n_init=10)\n",
    "y_kmeans = kmeans.fit_predict(X)"
   ]
  },
  {
   "cell_type": "code",
   "execution_count": 41,
   "metadata": {},
   "outputs": [],
   "source": [
    "kmeans_silhouette = silhouette_score(X, kmeans.labels_)"
   ]
  },
  {
   "cell_type": "code",
   "execution_count": 42,
   "metadata": {},
   "outputs": [
    {
     "data": {
      "text/plain": [
       "0.5042404598087247"
      ]
     },
     "execution_count": 42,
     "metadata": {},
     "output_type": "execute_result"
    }
   ],
   "source": [
    "kmeans_silhouette"
   ]
  },
  {
   "cell_type": "code",
   "execution_count": 47,
   "metadata": {},
   "outputs": [],
   "source": [
    "## Since the silhouette score is nearest to 1 when we take 4 clusters, the value of k = 4."
   ]
  },
  {
   "cell_type": "code",
   "execution_count": 43,
   "metadata": {},
   "outputs": [
    {
     "data": {
      "image/png": "[encoded data removed]",
      "text/plain": [
       "<Figure size 432x288 with 1 Axes>"
      ]
     },
     "metadata": {},
     "output_type": "display_data"
    }
   ],
   "source": [
    "plt.scatter(X[y_kmeans == 0, 0], X[y_kmeans == 0, 1], s = 100, c = 'red', label = 'Cluster 1') #careful\n",
    "plt.scatter(X[y_kmeans == 1, 0], X[y_kmeans == 1, 1], s = 100, c = 'blue', label = 'Cluster 2') #standard\n",
    "plt.scatter(X[y_kmeans == 2, 0], X[y_kmeans == 2, 1], s = 100, c = 'green', label = 'Cluster 3') #Target\n",
    "plt.scatter(X[y_kmeans == 3, 0], X[y_kmeans == 3, 1], s = 100, c = 'cyan', label = 'Cluster 4') #careless\n",
    "plt.scatter(kmeans.cluster_centers_[:, 0], kmeans.cluster_centers_[:, 1], s = 300, c = 'yellow', label = 'Centroids')\n",
    "plt.title('Clusters of albums')\n",
    "plt.xlabel('album_clusters')\n",
    "plt.ylabel('release_years')\n",
    "plt.legend()\n",
    "plt.show()"
   ]
  },
  {
   "cell_type": "code",
   "execution_count": 45,
   "metadata": {},
   "outputs": [
    {
     "data": {
      "image/png": "[encoded data removed]",
      "text/plain": [
       "<Figure size 432x288 with 1 Axes>"
      ]
     },
     "metadata": {},
     "output_type": "display_data"
    }
   ],
   "source": [
    "import scipy.cluster.hierarchy as sch\n",
    "dendrogram=sch.dendrogram(sch.linkage(X,method='ward'))\n",
    "plt.title(\"Dendogram\")\n",
    "plt.xlabel('albums')\n",
    "plt.ylabel('Euclidean Distances')\n",
    "plt.show()"
   ]
  },
  {
   "cell_type": "code",
   "execution_count": null,
   "metadata": {},
   "outputs": [],
   "source": []
  }
 ],
 "metadata": {
  "kernelspec": {
   "display_name": "Python 3",
   "language": "python",
   "name": "python3"
  },
  "language_info": {
   "codemirror_mode": {
    "name": "ipython",
    "version": 3
   },
   "file_extension": ".py",
   "mimetype": "text/x-python",
   "name": "python",
   "nbconvert_exporter": "python",
   "pygments_lexer": "ipython3",
   "version": "3.7.3"
  }
 },
 "nbformat": 4,
 "nbformat_minor": 2
}
